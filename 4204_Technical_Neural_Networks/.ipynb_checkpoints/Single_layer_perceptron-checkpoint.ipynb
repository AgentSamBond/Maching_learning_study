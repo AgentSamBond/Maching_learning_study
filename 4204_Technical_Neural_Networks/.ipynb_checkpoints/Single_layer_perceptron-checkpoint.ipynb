{
 "cells": [
  {
   "cell_type": "code",
   "execution_count": 1,
   "id": "5e92b141",
   "metadata": {},
   "outputs": [],
   "source": [
    "import numpy as np"
   ]
  },
  {
   "cell_type": "code",
   "execution_count": 2,
   "id": "c1b7ff2b",
   "metadata": {},
   "outputs": [],
   "source": [
    "class DenseLayer:\n",
    "    def __init__(self, n_units, \n",
    "        input_size):\n",
    "        \n",
    "        self.n_units = n_units\n",
    "        self.input_size = input_size\n",
    "        \n",
    "        # weights\n",
    "        self.W = None\n",
    "                \n",
    "        # fermi activation function and its derivative\n",
    "        self.fn = lambda x: 1 / (1 + np.exp(-x))\n",
    "        self.df = lambda x: x * (1 - x)\n",
    "\n",
    "    def init_weights(self):\n",
    "        self.W = np.random.uniform(-0.5, 0.5, (self.n_units, self.input_size + 1))\n",
    "   \n",
    "    def __call__(self, X):\n",
    "        \n",
    "        # adding a vector of 1s for the bias-weight\n",
    "        X_extended = np.hstack([\n",
    "            np.ones((X.shape[0], 1)),\n",
    "            X\n",
    "        ])\n",
    "        # multiplying the inputs by the weights\n",
    "        Z = X_extended @ self.W.T\n",
    "        \n",
    "        # applying transfer function\n",
    "        return self.fn(Z)"
   ]
  },
  {
   "cell_type": "code",
   "execution_count": 3,
   "id": "75020482",
   "metadata": {},
   "outputs": [],
   "source": [
    "class SingleLayerPerceptron:\n",
    "    def __init__(self, n_neurons, input_size, lr=0.1):\n",
    "        \n",
    "        # initializing the layer\n",
    "        self.layer = DenseLayer(n_units = n_neurons, input_size = input_size)\n",
    "        self.layer.init_weights()\n",
    "        \n",
    "        # learning rate\n",
    "        self.lr = lr\n",
    "\n",
    "    def forward(self, X):\n",
    "        # forward propagation\n",
    "        return self.layer(X)\n",
    "    \n",
    "    def extend(self, vec):\n",
    "        return np.hstack([np.ones((vec.shape[0], 1)), vec])\n",
    "\n",
    "    def backward(self, X, y_pred, y_true):\n",
    "        delta = y_pred - y_true        \n",
    "        derivative_to_output = np.array(list(map(self.layer.df,y_pred)))\n",
    "        \n",
    "        # weight change from delta rule\n",
    "        dW = self.lr * ((y_true - y_pred) * derivative_to_output).T @ self.extend(X)\n",
    "        self.layer.W += dW\n",
    "\n",
    "    def mean_square_error(self, y_pred, y):\n",
    "        return np.sqrt(((y_pred - y)**2).mean(axis=None))"
   ]
  },
  {
   "cell_type": "code",
   "execution_count": 4,
   "id": "6588a98c",
   "metadata": {},
   "outputs": [],
   "source": [
    "import re\n",
    "\n",
    "def parse_text_file(path):\n",
    "    with open(path,'r') as f:\n",
    "        data = f.readlines()\n",
    "        \n",
    "        # reading P, N, M using re\n",
    "        P, N, M = map(int, re.findall(r'\\d+', data[1]))\n",
    "        \n",
    "        X = np.zeros((P,N))\n",
    "        y = np.zeros((P,M))\n",
    "        for i, line in enumerate(data[2: 2 + P]):\n",
    "            nums = list(map(float, line.split()))\n",
    "            X[i] = nums[:N]\n",
    "            y[i] = nums[N:]\n",
    "    return P, N, M, X, y"
   ]
  },
  {
   "cell_type": "code",
   "execution_count": 5,
   "id": "93965c4a",
   "metadata": {},
   "outputs": [
    {
     "name": "stdout",
     "output_type": "stream",
     "text": [
      "P = 4, N = 2, M = 1\n",
      "X = [[0. 0.]\n",
      " [0. 1.]\n",
      " [1. 0.]\n",
      " [1. 1.]]\n",
      "y = [[0.]\n",
      " [0.]\n",
      " [0.]\n",
      " [1.]]\n",
      "predictions: [[2.46465431e-04]\n",
      " [5.56639328e-02]\n",
      " [5.56639332e-02]\n",
      " [9.33748123e-01]]\n"
     ]
    }
   ],
   "source": [
    "import matplotlib.pyplot as plt\n",
    "\n",
    "P, N, M, X, y = parse_text_file('PA-A_training_data_01.txt')\n",
    "print(f'P = {P}, N = {N}, M = {M}')\n",
    "print('X =', X)\n",
    "print('y =', y)\n",
    "\n",
    "\n",
    "model = SingleLayerPerceptron(n_neurons = M, input_size=N)\n",
    "\n",
    "cycles_mse = []\n",
    "for i in range(10000):\n",
    "    y_pred = model.forward(X)\n",
    "    model.backward(X, y_pred, y)\n",
    "    cycles_mse.append([\n",
    "        i,\n",
    "        model.mean_square_error(y_pred, y)\n",
    "    ])\n",
    "print('predictions:', y_pred)"
   ]
  },
  {
   "cell_type": "code",
   "execution_count": 6,
   "id": "fe17d843",
   "metadata": {},
   "outputs": [
    {
     "data": {
      "image/png": "[encoded data removed]",
      "text/plain": [
       "<Figure size 432x288 with 1 Axes>"
      ]
     },
     "metadata": {
      "needs_background": "light"
     },
     "output_type": "display_data"
    }
   ],
   "source": [
    "x, y = zip(*cycles_mse)\n",
    "plt.plot(x, y)\n",
    "plt.title('MSE')\n",
    "plt.show()"
   ]
  },
  {
   "cell_type": "code",
   "execution_count": null,
   "id": "982c1c7e",
   "metadata": {},
   "outputs": [],
   "source": []
  }
 ],
 "metadata": {
  "kernelspec": {
   "display_name": "Python 3 (ipykernel)",
   "language": "python",
   "name": "python3"
  },
  "language_info": {
   "codemirror_mode": {
    "name": "ipython",
    "version": 3
   },
   "file_extension": ".py",
   "mimetype": "text/x-python",
   "name": "python",
   "nbconvert_exporter": "python",
   "pygments_lexer": "ipython3",
   "version": "3.9.12"
  }
 },
 "nbformat": 4,
 "nbformat_minor": 5
}
