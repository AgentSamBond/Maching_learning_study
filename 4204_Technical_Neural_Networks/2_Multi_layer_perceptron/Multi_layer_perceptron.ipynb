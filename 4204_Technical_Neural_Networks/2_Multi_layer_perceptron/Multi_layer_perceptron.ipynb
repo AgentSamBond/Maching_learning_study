{
  "cells": [
    {
      "cell_type": "code",
      "execution_count": 5,
      "id": "5e92b141",
      "metadata": {
        "id": "5e92b141"
      },
      "outputs": [],
      "source": [
        "import numpy as np\n",
        "np.random.seed(0)"
      ]
    },
    {
      "cell_type": "code",
      "execution_count": 6,
      "id": "c1b7ff2b",
      "metadata": {
        "id": "c1b7ff2b"
      },
      "outputs": [],
      "source": [
        "class DenseLayer:\n",
        "    def __init__(self, n_units, \n",
        "        input_size, function_type, lr):\n",
        "        \n",
        "        self.n_units = n_units\n",
        "        self.input_size = input_size\n",
        "                \n",
        "        # tanh activation function and its derivative\n",
        "        if function_type == 'tanh':\n",
        "            self.fn = lambda x: np.tanh(x)\n",
        "            self.df = lambda x: 1-x**2\n",
        "            \n",
        "        # logistic activation function and its derivative\n",
        "        elif function_type == 'logistic':\n",
        "            self.fn = lambda x: 1 / (1 + np.exp(-x))\n",
        "            self.df = lambda x: x * (1 - x)\n",
        "        \n",
        "        # Identity activation function and its derivative\n",
        "        elif function_type == 'identity':\n",
        "            self.fn = lambda x: x\n",
        "            self.df = lambda x: np.ones(np.shape(x))\n",
        "        \n",
        "        #learning rate\n",
        "        self.lr = lr\n",
        "   \n",
        "    def __call__(self, X, bias = True):\n",
        "        \n",
        "        # adding a vector of 1s for the bias-weight\n",
        "        if bias:\n",
        "            X_extended = np.hstack([\n",
        "                np.ones((X.shape[0], 1)),\n",
        "                X\n",
        "            ])\n",
        "        else:\n",
        "            X_extended = X\n",
        "        # applying transfer function\n",
        "        return self.fn(X_extended)"
      ]
    },
    {
      "cell_type": "code",
      "execution_count": 7,
      "id": "75020482",
      "metadata": {
        "id": "75020482"
      },
      "outputs": [],
      "source": [
        "class MultiLayerPerceptron:\n",
        "    def __init__(self, output_size, input_size):\n",
        "        \n",
        "        # initializing layers\n",
        "        self.layer_n = DenseLayer(n_units = 6, input_size = input_size, function_type = 'identity', lr = 0.01)\n",
        "        self.layer_h = DenseLayer(n_units = 6, input_size = 6, function_type = 'logistic', lr = 0.02)\n",
        "        self.layer_m = DenseLayer(n_units = output_size, input_size = 6, function_type = 'tanh', lr = 0.03)\n",
        "        \n",
        "        #initialize weights\n",
        "        self.Wnh = np.random.uniform(-2, 2, (input_size + 1, 6))\n",
        "        self.Whm = np.random.uniform(-2, 2, (6 + 1, output_size))\n",
        "        \n",
        "    def forward(self, X):\n",
        "        # forward propagation\n",
        "        return self.layer_n(X), self.layer_h(self.layer_n(X)@self.Wnh), self.layer_m(self.layer_h(self.layer_n(X)@self.Wnh)@self.Whm, bias = False)\n",
        "\n",
        "    def backward(self, X, out_n, out_h, y_pred, y_true):\n",
        "        error = y_true - y_pred\n",
        "        \n",
        "        #backpropagation from output layer to hidden layer\n",
        "        derivative_m = np.array(list(map(self.layer_m.df,y_pred)))\n",
        "        delta_m = error * derivative_m\n",
        "        dW_hm = self.layer_m.lr * out_h.T @ delta_m\n",
        "        self.Whm += dW_hm\n",
        "        \n",
        "        #backpropagation from hidden layer to input layer\n",
        "        derivative_h = np.array(list(map(self.layer_h.df,out_h)))[:,1:]\n",
        "        delta_h = delta_m@self.Whm[1:,:].T*derivative_h\n",
        "        dW_nh = self.layer_h.lr * out_n.T @ delta_h \n",
        "        self.Wnh += dW_nh\n",
        "\n",
        "    def mean_square_error(self, y_pred, y):\n",
        "        return np.sqrt(((y_pred - y)**2).mean(axis=None))"
      ]
    },
    {
      "cell_type": "code",
      "execution_count": 8,
      "id": "6588a98c",
      "metadata": {
        "colab": {
          "base_uri": "https://localhost:8080/"
        },
        "id": "6588a98c",
        "outputId": "96c304f8-df8a-4797-fcee-c4a4e03f3d8f"
      },
      "outputs": [
        {
          "output_type": "stream",
          "name": "stdout",
          "text": [
            "# WS22/23_TNN_Assignment_PA-A_data_File_No_1_PA-A_training_data_05.txt\n",
            "# P=8    N=6    M=2   \n",
            "0.0 0.0 0.0 0.0 1.0 0.0     0.1 0.9\n",
            "0.0 1.0 1.0 0.0 0.0 0.0     0.9 0.1\n",
            "0.0 0.0 1.0 0.0 0.0 0.0     0.1 0.1\n",
            "0.0 1.0 0.0 0.0 1.0 0.0     0.9 0.9\n",
            "0.0 1.0 0.0 0.0 0.0 0.0     0.9 0.1\n",
            "0.0 0.0 1.0 0.0 1.0 0.0     0.1 0.9\n",
            "1.0 1.0 0.0 0.0 0.0 0.0     0.9 0.1\n",
            "1.0 0.0 1.0 0.0 1.0 0.0     0.1 0.9\n",
            "\n",
            "\n",
            "P = 8, N = 6, M = 2\n",
            "X = [[0. 0. 0. 0. 1. 0.]\n",
            " [0. 1. 1. 0. 0. 0.]\n",
            " [0. 0. 1. 0. 0. 0.]\n",
            " [0. 1. 0. 0. 1. 0.]\n",
            " [0. 1. 0. 0. 0. 0.]\n",
            " [0. 0. 1. 0. 1. 0.]\n",
            " [1. 1. 0. 0. 0. 0.]\n",
            " [1. 0. 1. 0. 1. 0.]]\n",
            "y = [[0.1 0.9]\n",
            " [0.9 0.1]\n",
            " [0.1 0.1]\n",
            " [0.9 0.9]\n",
            " [0.9 0.1]\n",
            " [0.1 0.9]\n",
            " [0.9 0.1]\n",
            " [0.1 0.9]]\n"
          ]
        }
      ],
      "source": [
        "import re\n",
        "import requests\n",
        "\n",
        "def parse_text_file(text):\n",
        "    data = text.split('\\n')\n",
        "    \n",
        "    # reading P, N, M using re\n",
        "    P, N, M = map(int, re.findall(r'\\d+', data[1]))\n",
        "    \n",
        "    X = np.zeros((P,N))\n",
        "    y = np.zeros((P,M))\n",
        "    for i, line in enumerate(data[2: 2 + P]):\n",
        "        nums = list(map(float, line.split()))\n",
        "        X[i] = nums[:N]\n",
        "        y[i] = nums[N:]\n",
        "    return P, N, M, X, y\n",
        "\n",
        "text_file = requests.get(\n",
        "  'https://raw.githubusercontent.com/AgentSamBond/Maching_learning_study/'\n",
        "  'main/4204_Technical_Neural_Networks/'\n",
        "  '1_Single_layer_perceptron/'\n",
        "  'PA-A_training_data_06.txt'\n",
        ").text\n",
        "print(text_file)\n",
        "\n",
        "P, N, M, X, y = parse_text_file(\n",
        "    text_file\n",
        "    )\n",
        "print(f'P = {P}, N = {N}, M = {M}')\n",
        "print('X =', X)\n",
        "print('y =', y)\n",
        "\n"
      ]
    },
    {
      "cell_type": "code",
      "execution_count": 9,
      "id": "93965c4a",
      "metadata": {
        "colab": {
          "base_uri": "https://localhost:8080/",
          "height": 420
        },
        "id": "93965c4a",
        "outputId": "8f237e94-f74e-4229-e6dc-26025c778228"
      },
      "outputs": [
        {
          "output_type": "stream",
          "name": "stdout",
          "text": [
            "predictions: [[0.10014021 0.90438391]\n",
            " [0.89595684 0.1006157 ]\n",
            " [0.0990409  0.09711413]\n",
            " [0.88986946 0.88209834]\n",
            " [0.92591115 0.10366591]\n",
            " [0.100999   0.90969282]\n",
            " [0.89312484 0.09831244]\n",
            " [0.10061069 0.9099634 ]]\n"
          ]
        },
        {
          "output_type": "display_data",
          "data": {
            "text/plain": [
              "<Figure size 432x288 with 1 Axes>"
            ],
            "image/png": "[encoded data removed]"
          },
          "metadata": {
            "needs_background": "light"
          }
        }
      ],
      "source": [
        "import matplotlib.pyplot as plt\n",
        "\n",
        "model = MultiLayerPerceptron(output_size = M, input_size=N)\n",
        "\n",
        "f = open(\"learning curve.txt\", \"w\")\n",
        "cycles_mse = []\n",
        "for i in range(10000):\n",
        "    out_n, out_h, y_pred = model.forward(X)\n",
        "    model.backward(X, out_n, out_h, y_pred, y)\n",
        "    cycles_mse.append([\n",
        "        i,\n",
        "        model.mean_square_error(y_pred, y)\n",
        "    ])\n",
        "    f.write(str(model.mean_square_error(y_pred, y)))\n",
        "    f.write('\\n')\n",
        "f.close()\n",
        "print('predictions:', y_pred)\n",
        "\n",
        "x, y = zip(*cycles_mse)\n",
        "plt.plot(x, y)\n",
        "plt.title('MSE')\n",
        "plt.show()\n"
      ]
    },
    {
      "cell_type": "code",
      "execution_count": 10,
      "id": "982c1c7e",
      "metadata": {
        "id": "982c1c7e",
        "outputId": "88e8461e-bb0d-4016-c7c1-96a68c93f834",
        "colab": {
          "base_uri": "https://localhost:8080/"
        }
      },
      "outputs": [
        {
          "output_type": "stream",
          "name": "stdout",
          "text": [
            "# WS22/23_TNN_Assignment_PA-A_data_File_No_1_PA-A_training_data_05.txt\n",
            "# P=8    N=6    M=2   \n",
            "0.0 0.0 0.0 0.0 1.0 0.0     0.1 0.9\n",
            "0.0 1.0 1.0 0.0 0.0 0.0     0.9 0.1\n",
            "0.0 0.0 1.0 0.0 0.0 0.0     0.1 0.1\n",
            "0.0 1.0 0.0 0.0 1.0 0.0     0.9 0.9\n",
            "0.0 1.0 0.0 0.0 0.0 0.0     0.9 0.1\n",
            "0.0 0.0 1.0 0.0 1.0 0.0     0.1 0.9\n",
            "1.0 1.0 0.0 0.0 0.0 0.0     0.9 0.1\n",
            "1.0 0.0 1.0 0.0 1.0 0.0     0.1 0.9\n",
            "\n",
            "\n",
            "P = 8, N = 6, M = 2\n",
            "X = [[0. 0. 0. 0. 1. 0.]\n",
            " [0. 1. 1. 0. 0. 0.]\n",
            " [0. 0. 1. 0. 0. 0.]\n",
            " [0. 1. 0. 0. 1. 0.]\n",
            " [0. 1. 0. 0. 0. 0.]\n",
            " [0. 0. 1. 0. 1. 0.]\n",
            " [1. 1. 0. 0. 0. 0.]\n",
            " [1. 0. 1. 0. 1. 0.]]\n",
            "y = [[0.1 0.9]\n",
            " [0.9 0.1]\n",
            " [0.1 0.1]\n",
            " [0.9 0.9]\n",
            " [0.9 0.1]\n",
            " [0.1 0.9]\n",
            " [0.9 0.1]\n",
            " [0.1 0.9]]\n",
            "predictions: [[0.10014025 0.90438277]\n",
            " [0.89595736 0.10061555]\n",
            " [0.09904069 0.09711454]\n",
            " [0.88986868 0.88210047]\n",
            " [0.92591035 0.10366546]\n",
            " [0.10099954 0.90969139]\n",
            " [0.89312567 0.09831268]\n",
            " [0.10061029 0.90996223]]\n"
          ]
        }
      ],
      "source": [
        "#validation\n",
        "text_file = requests.get(\n",
        "  'https://raw.githubusercontent.com/AgentSamBond/Maching_learning_study/main/'\n",
        "  '4204_Technical_Neural_Networks/1_Single_layer_perceptron/'\n",
        "  'PA-A_training_data_06.txt'\n",
        ").text\n",
        "print(text_file)\n",
        "\n",
        "P, N, M, X, y = parse_text_file(\n",
        "    text_file\n",
        "    )\n",
        "print(f'P = {P}, N = {N}, M = {M}')\n",
        "print('X =', X)\n",
        "print('y =', y)\n",
        "\n",
        "out_n, out_h, y_pred = model.forward(X)\n",
        "print('predictions:', y_pred)"
      ]
    },
    {
      "cell_type": "code",
      "execution_count": 10,
      "id": "74626409",
      "metadata": {
        "id": "74626409"
      },
      "outputs": [],
      "source": []
    }
  ],
  "metadata": {
    "colab": {
      "collapsed_sections": [],
      "provenance": []
    },
    "kernelspec": {
      "display_name": "Python 3 (ipykernel)",
      "language": "python",
      "name": "python3"
    },
    "language_info": {
      "codemirror_mode": {
        "name": "ipython",
        "version": 3
      },
      "file_extension": ".py",
      "mimetype": "text/x-python",
      "name": "python",
      "nbconvert_exporter": "python",
      "pygments_lexer": "ipython3",
      "version": "3.9.13"
    }
  },
  "nbformat": 4,
  "nbformat_minor": 5
}