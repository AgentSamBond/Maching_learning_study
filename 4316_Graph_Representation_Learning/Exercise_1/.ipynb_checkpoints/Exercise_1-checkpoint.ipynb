{
 "cells": [
  {
   "cell_type": "code",
   "execution_count": 56,
   "id": "48c3241e",
   "metadata": {},
   "outputs": [],
   "source": [
    "import igraph\n",
    "import numpy as np"
   ]
  },
  {
   "cell_type": "code",
   "execution_count": null,
   "id": "7ac2e474",
   "metadata": {},
   "outputs": [],
   "source": [
    "# TASK 1"
   ]
  },
  {
   "cell_type": "code",
   "execution_count": 4,
   "id": "9d2da0c3",
   "metadata": {},
   "outputs": [],
   "source": [
    "# loading the graph into memory\n",
    "g = igraph.Graph.Read_Pickle('ogbn-arxiv.pickle')"
   ]
  },
  {
   "cell_type": "code",
   "execution_count": 11,
   "id": "22120046",
   "metadata": {},
   "outputs": [
    {
     "name": "stdout",
     "output_type": "stream",
     "text": [
      "number of vertices: 169343\n",
      "number of edges: 1166243\n"
     ]
    }
   ],
   "source": [
    "print(f'number of vertices: {len(g.vs)}')\n",
    "print(f'number of edges: {len(g.es)}')"
   ]
  },
  {
   "cell_type": "code",
   "execution_count": 29,
   "id": "abc25f3b",
   "metadata": {},
   "outputs": [],
   "source": [
    "# getting the graph adjacency list \n",
    "adj_list = igraph.adjacency._get_adjlist(g)"
   ]
  },
  {
   "cell_type": "code",
   "execution_count": 40,
   "id": "c446cdf4",
   "metadata": {},
   "outputs": [
    {
     "name": "stdout",
     "output_type": "stream",
     "text": [
      "most cited papers: [72253], 436 citations\n"
     ]
    }
   ],
   "source": [
    "# finding the most cited papers\n",
    "adj_list_n_cit = [len(x) for x in adj_list]\n",
    "max_citations = max(adj_list_n_cit)\n",
    "most_cited_papers = [i for i, x in enumerate(adj_list_n_cit) if x == max_citations]\n",
    "print(f\"most cited papers: {most_cited_papers}, {max_citations} citations\")"
   ]
  },
  {
   "cell_type": "code",
   "execution_count": 38,
   "id": "fbac8b81",
   "metadata": {},
   "outputs": [
    {
     "data": {
      "text/plain": [
       "array([24], dtype=int64)"
      ]
     },
     "execution_count": 38,
     "metadata": {},
     "output_type": "execute_result"
    }
   ],
   "source": [
    "# there is only one paper, getting its subject area\n",
    "g.vs['label'][most_cited_papers[0]]"
   ]
  },
  {
   "cell_type": "code",
   "execution_count": 55,
   "id": "d3fc554c",
   "metadata": {},
   "outputs": [
    {
     "data": {
      "text/plain": [
       "24"
      ]
     },
     "execution_count": 55,
     "metadata": {},
     "output_type": "execute_result"
    }
   ],
   "source": [
    "# neighbours of the most cited paper\n",
    "neighbours = adj_list[most_cited_papers[0]]\n",
    "\n",
    "# their subject areas\n",
    "subject_areas = [g.vs['label'][i][0] for i in neighbours]\n",
    "max(subject_areas, key = subject_areas.count)"
   ]
  },
  {
   "cell_type": "code",
   "execution_count": 57,
   "id": "9b1555e9",
   "metadata": {},
   "outputs": [],
   "source": [
    "# TASK 2"
   ]
  },
  {
   "cell_type": "code",
   "execution_count": 60,
   "id": "9b4b2bc5",
   "metadata": {},
   "outputs": [
    {
     "name": "stdout",
     "output_type": "stream",
     "text": [
      "train_set: 120740 entries\n",
      "test_set: 48603 entries\n"
     ]
    }
   ],
   "source": [
    "train_set = g.vs.select(year_lt=2019)\n",
    "test_set = g.vs.select(year_ge=2019)\n",
    "print(f'train_set: {len(train_set)} entries')\n",
    "print(f'test_set: {len(test_set)} entries')"
   ]
  },
  {
   "cell_type": "code",
   "execution_count": null,
   "id": "3f42b7bd",
   "metadata": {},
   "outputs": [],
   "source": []
  }
 ],
 "metadata": {
  "kernelspec": {
   "display_name": "Python 3 (ipykernel)",
   "language": "python",
   "name": "python3"
  },
  "language_info": {
   "codemirror_mode": {
    "name": "ipython",
    "version": 3
   },
   "file_extension": ".py",
   "mimetype": "text/x-python",
   "name": "python",
   "nbconvert_exporter": "python",
   "pygments_lexer": "ipython3",
   "version": "3.9.12"
  }
 },
 "nbformat": 4,
 "nbformat_minor": 5
}
