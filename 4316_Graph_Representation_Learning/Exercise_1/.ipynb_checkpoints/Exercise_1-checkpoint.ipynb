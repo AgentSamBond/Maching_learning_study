{
 "cells": [
  {
   "cell_type": "code",
   "execution_count": 45,
   "id": "48c3241e",
   "metadata": {},
   "outputs": [],
   "source": [
    "import igraph\n",
    "import numpy as np\n",
    "import time"
   ]
  },
  {
   "cell_type": "code",
   "execution_count": 2,
   "id": "7ac2e474",
   "metadata": {},
   "outputs": [],
   "source": [
    "# TASK 1"
   ]
  },
  {
   "cell_type": "code",
   "execution_count": 3,
   "id": "9d2da0c3",
   "metadata": {},
   "outputs": [],
   "source": [
    "# loading the graph into memory\n",
    "g = igraph.Graph.Read_Pickle('ogbn-arxiv.pickle')"
   ]
  },
  {
   "cell_type": "code",
   "execution_count": 4,
   "id": "22120046",
   "metadata": {},
   "outputs": [
    {
     "name": "stdout",
     "output_type": "stream",
     "text": [
      "number of vertices: 169343\n",
      "number of edges: 1166243\n"
     ]
    }
   ],
   "source": [
    "print(f'number of vertices: {len(g.vs)}')\n",
    "print(f'number of edges: {len(g.es)}')"
   ]
  },
  {
   "cell_type": "code",
   "execution_count": 25,
   "id": "f60c82da",
   "metadata": {},
   "outputs": [
    {
     "name": "stdout",
     "output_type": "stream",
     "text": [
      "most cited papers: [array([2014], dtype=int64)],\n",
      "[13161] citations\n",
      " subject areas: [array([24], dtype=int64)]\n"
     ]
    }
   ],
   "source": [
    "# finding the node with highest degree, i.e. the most cited paper\n",
    "most_cited = g.vs.select(_degree=g.maxdegree())\n",
    "print(f\"most cited papers: {most_cited['year']},\\n\"\n",
    "      f\"{most_cited.degree()} citations\\n\", \n",
    "      f\"subject areas: {most_cited['label']}\")"
   ]
  },
  {
   "cell_type": "code",
   "execution_count": 9,
   "id": "9b1555e9",
   "metadata": {},
   "outputs": [],
   "source": [
    "# TASK 2"
   ]
  },
  {
   "cell_type": "code",
   "execution_count": 10,
   "id": "9b4b2bc5",
   "metadata": {},
   "outputs": [
    {
     "name": "stdout",
     "output_type": "stream",
     "text": [
      "train_set: 120740 entries\n",
      "test_set: 48603 entries\n"
     ]
    }
   ],
   "source": [
    "train_set = g.vs.select(year_lt=2019)\n",
    "test_set = g.vs.select(year_ge=2019)\n",
    "print(f'train_set: {len(train_set)} entries')\n",
    "print(f'test_set: {len(test_set)} entries')"
   ]
  },
  {
   "cell_type": "code",
   "execution_count": 27,
   "id": "3f42b7bd",
   "metadata": {},
   "outputs": [],
   "source": [
    "# TASK 3"
   ]
  },
  {
   "cell_type": "markdown",
   "id": "40b1b73b",
   "metadata": {},
   "source": [
    "Lemma 1 Let G be a graph and v ∈ V (G). Then, $∆(v) = |E(G[N (v)])|$\n",
    "\n",
    "We need to calculate the number of triangle subgraphs of G that contain v.\n",
    "By definition, the neighbourhood N(v) of a vertex v in a graph G is the subgraph of G induced by all vertices adjacent to v. Since there is an edge between each node in N(v) and v, to complete a triangle between two neighbor nodes and v, we need those neighbor nodes to be connected by edge. As a result, the number of number of triangle subgraphs of G that contain v will simply be the number of edges in the neighborhood of v."
   ]
  },
  {
   "cell_type": "code",
   "execution_count": 47,
   "id": "5b02b5d9",
   "metadata": {},
   "outputs": [
    {
     "name": "stdout",
     "output_type": "stream",
     "text": [
      "number of triangles for first 10 vertices:\n",
      "[1460    1   20    1   12    0    0    1    0    2]\n",
      "time taken: 31.49\n"
     ]
    }
   ],
   "source": [
    "# TASK 3.1\n",
    "\n",
    "# for each vertex, getting the list of its neighbors,\n",
    "# selecting a subgraph that consists only of the neighbors\n",
    "# and calculating the number of edges in it. The number of triangles \n",
    "# equals the number of the edges.\n",
    "triangles_list = np.zeros(len(g.vs), dtype=int)\n",
    "\n",
    "time_start = time.time()\n",
    "for i, vertex in enumerate(g.vs):\n",
    "    neighbors = vertex.neighbors()\n",
    "    subgraph = g.induced_subgraph(neighbors)\n",
    "    triangles_list[i] = len(subgraph.es)\n",
    "print(f'number of triangles for first 10 vertices:')\n",
    "print(triangles_list[0:10])\n",
    "print(f'time taken: {time.time() - time_start:.2f}')"
   ]
  },
  {
   "cell_type": "code",
   "execution_count": null,
   "id": "083bf6a0",
   "metadata": {},
   "outputs": [],
   "source": [
    "# TASK 3.2\n",
    "\n",
    "def check_time(method_name):\n",
    "    global time_start\n",
    "    print(f\"{method_name}: {time.time() - time_start:.3f}s\")\n",
    "    time_start = time.time()\n",
    "\n",
    "time_start = time.time()\n",
    "pageranks = g.pagerank()\n",
    "check_time('pageranks')\n",
    "\n",
    "corenesses = g.coreness()\n",
    "check_time('corenesses')\n",
    "\n",
    "eigen_centralities = g.eigenvector_centrality()\n",
    "check_time('eigen_centralities')\n",
    "\n",
    "# strengths = g.strength()\n",
    "# check_time('strengths')\n",
    "\n",
    "# diversities = g.diversity()\n",
    "# check_time('diversities')\n",
    "\n",
    "degrees = g.degree(g.vs)\n",
    "check_time('degrees')\n",
    "    "
   ]
  },
  {
   "cell_type": "code",
   "execution_count": null,
   "id": "0969f320",
   "metadata": {},
   "outputs": [],
   "source": []
  }
 ],
 "metadata": {
  "kernelspec": {
   "display_name": "Python 3 (ipykernel)",
   "language": "python",
   "name": "python3"
  },
  "language_info": {
   "codemirror_mode": {
    "name": "ipython",
    "version": 3
   },
   "file_extension": ".py",
   "mimetype": "text/x-python",
   "name": "python",
   "nbconvert_exporter": "python",
   "pygments_lexer": "ipython3",
   "version": "3.9.12"
  }
 },
 "nbformat": 4,
 "nbformat_minor": 5
}
