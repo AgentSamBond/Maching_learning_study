{
 "cells": [
  {
   "cell_type": "code",
   "execution_count": 1,
   "id": "65862d99",
   "metadata": {},
   "outputs": [],
   "source": [
    "def insertion_sort(A):\n",
    "    for i in range(1, len(A)):\n",
    "        position = i\n",
    "        for j in range(i-1, -1,-1):\n",
    "            if A[position] < A[j]:\n",
    "                A[position], A[j] = A[j], A[position]\n",
    "                position -= 1"
   ]
  },
  {
   "cell_type": "code",
   "execution_count": 12,
   "id": "1d46b30a",
   "metadata": {},
   "outputs": [],
   "source": [
    "def test(method, **kwargs):\n",
    "    A = [3,5,1,9,2,4,5,10,4]\n",
    "    method(A, **kwargs)\n",
    "    print(A)"
   ]
  },
  {
   "cell_type": "code",
   "execution_count": 13,
   "id": "5396dfc3",
   "metadata": {},
   "outputs": [
    {
     "name": "stdout",
     "output_type": "stream",
     "text": [
      "[1, 2, 3, 4, 4, 5, 5, 9, 10]\n"
     ]
    }
   ],
   "source": [
    "test(insertion_sort)"
   ]
  },
  {
   "cell_type": "code",
   "execution_count": 14,
   "id": "c1b410cd",
   "metadata": {},
   "outputs": [],
   "source": [
    "def merge_sort(A, start, end):\n",
    "    if start == end:\n",
    "        return\n",
    "    \n",
    "    mid = (start + end) // 2\n",
    "    merge_sort(A, start, mid)\n",
    "    merge_sort(A, mid+1, end)\n",
    "    merge(A, start, end, mid)\n",
    "    \n",
    "def merge(A, start, end, mid):\n",
    "    L = A[start:mid+1].copy()\n",
    "    R = A[mid+1:end+1].copy()\n",
    "    \n",
    "    L.append(9999)\n",
    "    R.append(9999)\n",
    "    \n",
    "    curr_L = 0\n",
    "    curr_R = 0\n",
    "    \n",
    "    for i in range(start, end+1):\n",
    "        if L[curr_L] < R[curr_R]:\n",
    "            A[i] = L[curr_L]\n",
    "            curr_L += 1\n",
    "        else:\n",
    "            A[i] = R[curr_R]\n",
    "            curr_R += 1"
   ]
  },
  {
   "cell_type": "code",
   "execution_count": 15,
   "id": "b4b39a4f",
   "metadata": {},
   "outputs": [
    {
     "name": "stdout",
     "output_type": "stream",
     "text": [
      "[1, 2, 3, 4, 4, 5, 5, 9, 10]\n"
     ]
    }
   ],
   "source": [
    "A = [3,5,1,9,2,4,5,10,4]\n",
    "merge_sort(A, start = 0, end = len(A) - 1)\n",
    "print(A)"
   ]
  },
  {
   "cell_type": "code",
   "execution_count": 24,
   "id": "c16c9967",
   "metadata": {},
   "outputs": [],
   "source": [
    "import random\n",
    "\n",
    "def quick_sort(A, start, end):\n",
    "    if end > start:\n",
    "        pivot_less, pivot_eq = partition(A, start, end)\n",
    "        quick_sort(A, start, pivot_less - 1)\n",
    "        quick_sort(A, pivot_eq +1, end)\n",
    "        \n",
    "def partition(A, start, end):\n",
    "    rand_index = random.randint(start, end)\n",
    "    A[end], A[rand_index] = A[rand_index], A[end]\n",
    "    \n",
    "    boundary_less = start\n",
    "    for i in range(start, end):\n",
    "        if A[i] < A[end]:\n",
    "            A[i], A[boundary_less] = A[boundary_less], A[i]\n",
    "            boundary_less += 1\n",
    "    A[end], A[boundary_less] = A[boundary_less], A[end]\n",
    "        \n",
    "    boundary_eq = boundary_less\n",
    "    for i in range(boundary_less + 1, end + 1):\n",
    "        if A[i] == A[boundary_eq]:\n",
    "            boundary_eq += 1\n",
    "            A[i], A[boundary_eq] = A[boundary_eq], A[i]\n",
    "    return boundary_less, boundary_eq"
   ]
  },
  {
   "cell_type": "code",
   "execution_count": 25,
   "id": "0aae6833",
   "metadata": {},
   "outputs": [
    {
     "name": "stdout",
     "output_type": "stream",
     "text": [
      "[1, 2, 3, 4, 4, 5, 5, 9, 10]\n"
     ]
    }
   ],
   "source": [
    "A = [3,5,1,9,2,4,5,10,4]\n",
    "quick_sort(A, start = 0, end = len(A) - 1)\n",
    "print(A)"
   ]
  },
  {
   "cell_type": "code",
   "execution_count": null,
   "id": "9127f0d5",
   "metadata": {},
   "outputs": [],
   "source": []
  }
 ],
 "metadata": {
  "kernelspec": {
   "display_name": "Python 3 (ipykernel)",
   "language": "python",
   "name": "python3"
  },
  "language_info": {
   "codemirror_mode": {
    "name": "ipython",
    "version": 3
   },
   "file_extension": ".py",
   "mimetype": "text/x-python",
   "name": "python",
   "nbconvert_exporter": "python",
   "pygments_lexer": "ipython3",
   "version": "3.9.12"
  }
 },
 "nbformat": 4,
 "nbformat_minor": 5
}
