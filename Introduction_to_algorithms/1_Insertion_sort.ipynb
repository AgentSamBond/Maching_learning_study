{
 "cells": [
  {
   "cell_type": "code",
   "execution_count": 24,
   "id": "723e1382",
   "metadata": {},
   "outputs": [],
   "source": [
    "def insertion_sort(arr):\n",
    "    for i in range(1, len(arr)):\n",
    "        key = arr[i]\n",
    "        j = i - 1\n",
    "        while j >= 0 and arr[j] > key:\n",
    "            arr[j + 1] = arr[j]\n",
    "            j -= 1\n",
    "        arr[j + 1] = key\n",
    "    return arr"
   ]
  },
  {
   "cell_type": "code",
   "execution_count": 25,
   "id": "835d11f9",
   "metadata": {},
   "outputs": [
    {
     "data": {
      "text/plain": [
       "[26, 31, 41, 41, 58, 59]"
      ]
     },
     "execution_count": 25,
     "metadata": {},
     "output_type": "execute_result"
    }
   ],
   "source": [
    "insertion_sort(\n",
    "    [31, 41, 59, 26, 41, 58]\n",
    ")"
   ]
  },
  {
   "cell_type": "code",
   "execution_count": 26,
   "id": "7139355f",
   "metadata": {},
   "outputs": [],
   "source": [
    "def insertion_sort_reverse(arr):\n",
    "    for i in range(1, len(arr)):\n",
    "        key = arr[i]\n",
    "        j = i - 1\n",
    "        while j >= 0 and arr[j] < key:\n",
    "            arr[j + 1] = arr[j]\n",
    "            j -= 1\n",
    "        arr[j + 1] = key\n",
    "    return arr"
   ]
  },
  {
   "cell_type": "code",
   "execution_count": 27,
   "id": "3cdda19e",
   "metadata": {},
   "outputs": [
    {
     "data": {
      "text/plain": [
       "[59, 58, 41, 41, 31, 26]"
      ]
     },
     "execution_count": 27,
     "metadata": {},
     "output_type": "execute_result"
    }
   ],
   "source": [
    "insertion_sort_reverse(\n",
    "    [31, 41, 59, 26, 41, 58]\n",
    ")"
   ]
  },
  {
   "cell_type": "code",
   "execution_count": 38,
   "id": "ac95b47b",
   "metadata": {},
   "outputs": [],
   "source": [
    "def insertion_sort_recursive(arr, n):\n",
    "    if n >= 1:\n",
    "        insertion_sort_recursive(arr, n-1)\n",
    "    insert_last(arr, n)\n",
    "    \n",
    "def insert_last(arr, n):\n",
    "    i = n-1\n",
    "    key = arr[n]\n",
    "    while i >= 0 and key < arr[i]:\n",
    "        arr[i+1] = arr[i]\n",
    "        i -= 1\n",
    "    arr[i+1] = key"
   ]
  },
  {
   "cell_type": "code",
   "execution_count": 39,
   "id": "0392eea0",
   "metadata": {},
   "outputs": [
    {
     "name": "stdout",
     "output_type": "stream",
     "text": [
      "[26, 31, 41, 41, 58, 59]\n"
     ]
    }
   ],
   "source": [
    "arr_test = [31, 41, 59, 26, 41, 58]\n",
    "insertion_sort_recursive(\n",
    "    arr_test,\n",
    "    len(arr_test) - 1\n",
    ")\n",
    "print(arr_test)"
   ]
  },
  {
   "cell_type": "code",
   "execution_count": null,
   "id": "ef4fcaf6",
   "metadata": {},
   "outputs": [],
   "source": []
  }
 ],
 "metadata": {
  "kernelspec": {
   "display_name": "Python 3 (ipykernel)",
   "language": "python",
   "name": "python3"
  },
  "language_info": {
   "codemirror_mode": {
    "name": "ipython",
    "version": 3
   },
   "file_extension": ".py",
   "mimetype": "text/x-python",
   "name": "python",
   "nbconvert_exporter": "python",
   "pygments_lexer": "ipython3",
   "version": "3.9.12"
  }
 },
 "nbformat": 4,
 "nbformat_minor": 5
}
