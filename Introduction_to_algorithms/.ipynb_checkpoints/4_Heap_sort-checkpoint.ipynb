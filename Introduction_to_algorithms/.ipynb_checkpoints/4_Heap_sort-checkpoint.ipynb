{
 "cells": [
  {
   "cell_type": "code",
   "execution_count": 2,
   "id": "d749d4bf",
   "metadata": {},
   "outputs": [],
   "source": [
    "class HeapSort:\n",
    "    def __init__(self, A):\n",
    "        self.A = A\n",
    "        self.heap_size = len(A)\n",
    "\n",
    "    def parent(self, i):\n",
    "        return i // 2\n",
    "    \n",
    "    def left(self, i):\n",
    "        return 2*i\n",
    "    \n",
    "    def right(self, i):\n",
    "        return 2*i + 1\n",
    "\n",
    "    def max_heapify(self, i):\n",
    "        l = self.left(i)\n",
    "        r = self.right(i)\n",
    "\n",
    "        if l < self.heap_size and self.A[l] > self.A[i]:\n",
    "            largest = l\n",
    "        else:\n",
    "            largest = i\n",
    "            \n",
    "        if r < self.heap_size and self.A[r] > self.A[largest]:\n",
    "            largest = r\n",
    "        \n",
    "        if largest != i:\n",
    "            self.A[i], self.A[largest] = self.A[largest], self.A[i]\n",
    "            self.max_heapify(largest)\n",
    "            \n",
    "    def build_max_heap(self):\n",
    "        self.heap_size = len(self.A)\n",
    "        for i in range(self.heap_size // 2, -1, -1):\n",
    "            self.max_heapify(i)\n",
    "\n",
    "    def heap_sort(self):\n",
    "        self.build_max_heap()\n",
    "        for i in range(len(self.A)-1, 0, -1):\n",
    "            self.A[i], self.A[0] = self.A[0], self.A[i]\n",
    "            self.heap_size -= 1\n",
    "            self.max_heapify(0)"
   ]
  },
  {
   "cell_type": "code",
   "execution_count": 3,
   "id": "f57941a7",
   "metadata": {},
   "outputs": [
    {
     "name": "stdout",
     "output_type": "stream",
     "text": [
      "[1, 2, 3, 5]\n"
     ]
    }
   ],
   "source": [
    "\n",
    "heap_sort = HeapSort(\n",
    "    [5,2,3,1]\n",
    ")\n",
    "heap_sort.heap_sort()\n",
    "print(heap_sort.A)"
   ]
  },
  {
   "cell_type": "code",
   "execution_count": null,
   "id": "fc06aba6",
   "metadata": {},
   "outputs": [],
   "source": []
  }
 ],
 "metadata": {
  "kernelspec": {
   "display_name": "Python 3 (ipykernel)",
   "language": "python",
   "name": "python3"
  },
  "language_info": {
   "codemirror_mode": {
    "name": "ipython",
    "version": 3
   },
   "file_extension": ".py",
   "mimetype": "text/x-python",
   "name": "python",
   "nbconvert_exporter": "python",
   "pygments_lexer": "ipython3",
   "version": "3.9.12"
  }
 },
 "nbformat": 4,
 "nbformat_minor": 5
}
