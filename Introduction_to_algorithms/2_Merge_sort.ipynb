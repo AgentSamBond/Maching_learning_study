{
 "cells": [
  {
   "cell_type": "code",
   "execution_count": 23,
   "id": "328d8071",
   "metadata": {},
   "outputs": [],
   "source": [
    "# with sentinels\n",
    "\n",
    "def merge_sort(arr, p, r):\n",
    "    if p < r - 1:\n",
    "        q = (p + r) // 2\n",
    "        merge_sort(arr, p, q)\n",
    "        merge_sort(arr, q, r)\n",
    "        merge(arr, p, q, r)\n",
    "        \n",
    "def merge(arr, p, q, r):\n",
    "    n1 = q - p + 1\n",
    "    n2 = r - q\n",
    "    L = arr[p:q].copy()\n",
    "    R = arr[q:r].copy()\n",
    "    \n",
    "    # sentinels\n",
    "    L.append(10**8)\n",
    "    R.append(10**8)\n",
    "    \n",
    "    i = 0\n",
    "    j = 0\n",
    "    for k in range(p, r):\n",
    "        if L[i] <= R[j]:\n",
    "            arr[k] = L[i]\n",
    "            i += 1\n",
    "        else:\n",
    "            arr[k] = R[j]\n",
    "            j += 1"
   ]
  },
  {
   "cell_type": "code",
   "execution_count": 24,
   "id": "2133ebfa",
   "metadata": {},
   "outputs": [
    {
     "name": "stdout",
     "output_type": "stream",
     "text": [
      "[1, 2, 2, 3, 4, 5, 6, 7]\n",
      "[1, 2, 2, 3, 4, 5, 6, 7, 8]\n"
     ]
    }
   ],
   "source": [
    "for arr_to_sort in [\n",
    "    [2,4,5,7,1,2,3,6],\n",
    "    [8,2,4,5,7,1,2,3,6]\n",
    "]:\n",
    "    merge_sort(arr_to_sort, 0, len(arr_to_sort))\n",
    "    print(arr_to_sort)"
   ]
  },
  {
   "cell_type": "code",
   "execution_count": 41,
   "id": "97c785fc",
   "metadata": {},
   "outputs": [],
   "source": [
    "# without sentinels\n",
    "\n",
    "def merge_sort_ws(arr, p, r):\n",
    "    if p < r - 1:\n",
    "        q = (p + r) // 2\n",
    "        merge_sort_ws(arr, p, q)\n",
    "        merge_sort_ws(arr, q, r)\n",
    "        merge_ws(arr, p, q, r)\n",
    "        \n",
    "def merge_ws(arr, p, q, r):\n",
    "    n1 = q - p + 1\n",
    "    n2 = r - q\n",
    "    L = arr[p:q].copy()\n",
    "    R = arr[q:r].copy()\n",
    "    \n",
    "    i = 0\n",
    "    j = 0\n",
    "\n",
    "    for k in range(p, r):\n",
    "        if i >= len(L):\n",
    "            for m in range(r-k):\n",
    "                arr[k+m] = R[j+m]\n",
    "            break\n",
    "        elif j >= len(R):\n",
    "            for m in range(r-k):\n",
    "                arr[k+m] = L[i+m]\n",
    "            break\n",
    "        \n",
    "        elif L[i] <= R[j]:\n",
    "            arr[k] = L[i]\n",
    "            i += 1\n",
    "        else:\n",
    "            arr[k] = R[j]\n",
    "            j += 1"
   ]
  },
  {
   "cell_type": "code",
   "execution_count": 42,
   "id": "9fbb226e",
   "metadata": {},
   "outputs": [
    {
     "name": "stdout",
     "output_type": "stream",
     "text": [
      "[1, 2, 2, 3, 4, 5, 6, 7]\n",
      "[1, 2, 2, 3, 4, 5, 6, 7, 8]\n"
     ]
    }
   ],
   "source": [
    "for arr_to_sort in [\n",
    "    [2,4,5,7,1,2,3,6],\n",
    "    [8,2,4,5,7,1,2,3,6]\n",
    "]:\n",
    "    merge_sort_ws(arr_to_sort, 0, len(arr_to_sort))\n",
    "    print(arr_to_sort)"
   ]
  },
  {
   "cell_type": "code",
   "execution_count": null,
   "id": "1848c630",
   "metadata": {},
   "outputs": [],
   "source": []
  }
 ],
 "metadata": {
  "kernelspec": {
   "display_name": "Python 3 (ipykernel)",
   "language": "python",
   "name": "python3"
  },
  "language_info": {
   "codemirror_mode": {
    "name": "ipython",
    "version": 3
   },
   "file_extension": ".py",
   "mimetype": "text/x-python",
   "name": "python",
   "nbconvert_exporter": "python",
   "pygments_lexer": "ipython3",
   "version": "3.9.12"
  }
 },
 "nbformat": 4,
 "nbformat_minor": 5
}
