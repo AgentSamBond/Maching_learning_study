{
 "cells": [
  {
   "cell_type": "code",
   "execution_count": 1,
   "id": "691b82a7",
   "metadata": {},
   "outputs": [],
   "source": [
    "import numpy as np"
   ]
  },
  {
   "cell_type": "code",
   "execution_count": 8,
   "id": "c2193671",
   "metadata": {},
   "outputs": [],
   "source": [
    "# divide and conquer\n",
    "\n",
    "def find_max_subarray(A, low, high):\n",
    "    if high == low:\n",
    "        return low, high, A[low]\n",
    "    \n",
    "    mid = (low + high) // 2\n",
    "    \n",
    "    left_low, left_high, left_sum = find_max_subarray(A, low, mid)\n",
    "    right_low, right_high, right_sum = find_max_subarray(A, mid+1, high)\n",
    "    cross_low, cross_high, cross_sum = find_max_crossing_subarray(A, low, mid, high)\n",
    "    \n",
    "    if left_sum >= cross_sum and left_sum >= right_sum:\n",
    "        return left_low, left_high, left_sum\n",
    "    elif right_sum >= cross_sum and right_sum >= left_sum:\n",
    "        return right_low, right_high, right_sum\n",
    "    else:\n",
    "        return cross_low, cross_high, cross_sum\n",
    "    \n",
    "\n",
    "def find_max_subsequent_sum(A, start, end, step):\n",
    "    sum_max = -np.infty\n",
    "    sum_curr = 0\n",
    "    elt_max = start\n",
    "    \n",
    "    for i in range(start, end, step):\n",
    "        sum_curr += A[i]\n",
    "        if sum_curr > sum_max:\n",
    "            sum_max = sum_curr\n",
    "            elt_max = i\n",
    "    return sum_max, elt_max\n",
    "    \n",
    "def find_max_crossing_subarray(A, low, mid, high):\n",
    "    left_sum_max, left_max = find_max_subsequent_sum(A, mid, low - 1, -1)\n",
    "    right_sum_max, right_max = find_max_subsequent_sum(A, mid, high + 1, 1)\n",
    "    \n",
    "    return left_max, right_max, left_sum_max + right_sum_max - A[mid]"
   ]
  },
  {
   "cell_type": "code",
   "execution_count": 9,
   "id": "114132ab",
   "metadata": {},
   "outputs": [
    {
     "name": "stdout",
     "output_type": "stream",
     "text": [
      "(3, 6, 6)\n",
      "(0, 4, 23)\n"
     ]
    }
   ],
   "source": [
    "print(find_max_subarray(\n",
    "    [-2,1,-3,4,-1,2,1,-5,4],\n",
    "    0, 8\n",
    "))\n",
    "print(find_max_subarray(\n",
    "    [5,4,-1,7,8],\n",
    "    0, 4\n",
    "))"
   ]
  },
  {
   "cell_type": "code",
   "execution_count": 51,
   "id": "b8e734a9",
   "metadata": {},
   "outputs": [],
   "source": [
    "# iterative\n",
    "\n",
    "def find_max_subarray_iterative(A):\n",
    "    sums = [[0, 0, 0]] * len(A)\n",
    "    sums[0] = [A[0], 0, 0]\n",
    "    \n",
    "    max_sum = sums[0].copy()    \n",
    "\n",
    "    if len(A) > 1:\n",
    "        for i, element in enumerate(A[1:]):\n",
    "            if sums[i][0] + element > element:\n",
    "                sums[i+1][0] = sums[i][0] + element\n",
    "                sums[i+1][1] = sums[i][1]\n",
    "                sums[i+1][2] = i+1\n",
    "            else:\n",
    "                sums[i+1][0] = element\n",
    "                sums[i+1][1] = i+1\n",
    "                sums[i+1][2] = i+1\n",
    "            if sums[i+1][0] > max_sum[0]:\n",
    "                max_sum = sums[i+1].copy()\n",
    "    return  max_sum  "
   ]
  },
  {
   "cell_type": "code",
   "execution_count": 52,
   "id": "5ad38958",
   "metadata": {},
   "outputs": [
    {
     "name": "stdout",
     "output_type": "stream",
     "text": [
      "[6, 3, 6]\n",
      "[23, 0, 4]\n"
     ]
    }
   ],
   "source": [
    "print(find_max_subarray_iterative(\n",
    "    [-2,1,-3,4,-1,2,1,-5,4],\n",
    "))\n",
    "print(find_max_subarray_iterative(\n",
    "    [5,4,-1,7,8],\n",
    "))"
   ]
  },
  {
   "cell_type": "code",
   "execution_count": null,
   "id": "e66309b2",
   "metadata": {},
   "outputs": [],
   "source": []
  }
 ],
 "metadata": {
  "kernelspec": {
   "display_name": "Python 3 (ipykernel)",
   "language": "python",
   "name": "python3"
  },
  "language_info": {
   "codemirror_mode": {
    "name": "ipython",
    "version": 3
   },
   "file_extension": ".py",
   "mimetype": "text/x-python",
   "name": "python",
   "nbconvert_exporter": "python",
   "pygments_lexer": "ipython3",
   "version": "3.9.12"
  }
 },
 "nbformat": 4,
 "nbformat_minor": 5
}
