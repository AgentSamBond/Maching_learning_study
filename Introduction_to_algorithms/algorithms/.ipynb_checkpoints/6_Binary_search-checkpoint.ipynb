{
 "cells": [
  {
   "cell_type": "code",
   "execution_count": 23,
   "id": "3f063976",
   "metadata": {},
   "outputs": [],
   "source": [
    "def binary_search(A, start, end, x):    \n",
    "    if start == end:\n",
    "        if A[start] == x:\n",
    "            return start\n",
    "        else:\n",
    "            return None\n",
    "    \n",
    "    mid = (start + end) // 2\n",
    "    \n",
    "    if A[mid] >= x:\n",
    "        return binary_search(A, start, mid, x)\n",
    "    else:\n",
    "        return binary_search(A, mid + 1, end, x)"
   ]
  },
  {
   "cell_type": "code",
   "execution_count": 25,
   "id": "d7c62345",
   "metadata": {},
   "outputs": [
    {
     "name": "stdout",
     "output_type": "stream",
     "text": [
      "6\n"
     ]
    }
   ],
   "source": [
    "print(binary_search(\n",
    "    [1,2,3,4,5,6,7],\n",
    "    0,\n",
    "    6,\n",
    "    7\n",
    "))"
   ]
  },
  {
   "cell_type": "code",
   "execution_count": null,
   "id": "313f3bb4",
   "metadata": {},
   "outputs": [],
   "source": []
  }
 ],
 "metadata": {
  "kernelspec": {
   "display_name": "Python 3 (ipykernel)",
   "language": "python",
   "name": "python3"
  },
  "language_info": {
   "codemirror_mode": {
    "name": "ipython",
    "version": 3
   },
   "file_extension": ".py",
   "mimetype": "text/x-python",
   "name": "python",
   "nbconvert_exporter": "python",
   "pygments_lexer": "ipython3",
   "version": "3.9.12"
  }
 },
 "nbformat": 4,
 "nbformat_minor": 5
}
