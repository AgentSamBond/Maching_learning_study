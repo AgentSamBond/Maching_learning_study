{
 "cells": [
  {
   "cell_type": "code",
   "execution_count": 22,
   "id": "d611e19c",
   "metadata": {},
   "outputs": [],
   "source": [
    "class Graph:\n",
    "    def __init__(self, label_list, adjacency_list):\n",
    "        self.nodes = [GraphNode(*i) for i in zip(label_list, adjacency_list)]\n",
    "        \n",
    "class GraphNode:\n",
    "    def __init__(self, label, adjacent_nodes):\n",
    "        self.label = label\n",
    "        self.neighbors = adjacent_nodes\n",
    "        self.color = None\n",
    "        self.d = None\n",
    "        self.p = None"
   ]
  },
  {
   "cell_type": "code",
   "execution_count": 30,
   "id": "f45a7728",
   "metadata": {},
   "outputs": [],
   "source": [
    "def bfs(graph, start_node):\n",
    "    for node in graph.nodes:\n",
    "        node.color = 'WHITE'\n",
    "        node.d = -1\n",
    "        node.p = None\n",
    "    \n",
    "    start_node.color = 'GRAY'\n",
    "    start_node.d = 0\n",
    "    print(f'bfs from node {start_node.label}')\n",
    "    \n",
    "    queue = []\n",
    "    queue.append(start_node)\n",
    "    \n",
    "    while queue:\n",
    "        node = queue.pop(0)\n",
    "        \n",
    "        for i in node.neighbors:\n",
    "            n = graph.nodes[i]\n",
    "            \n",
    "            if n.color == 'WHITE':\n",
    "                n.color = 'GRAY'\n",
    "                n.d = node.d + 1\n",
    "                n.p = node\n",
    "                \n",
    "                print(n.label, n.d, n.p.label)\n",
    "                queue.append(n)\n",
    "                \n",
    "        node.color = 'BLACK'"
   ]
  },
  {
   "cell_type": "code",
   "execution_count": 34,
   "id": "7e6a3879",
   "metadata": {},
   "outputs": [
    {
     "name": "stdout",
     "output_type": "stream",
     "text": [
      "bfs from node a\n",
      "b 1 a\n",
      "c 1 a\n",
      "d 1 a\n",
      "e 1 a\n",
      "bfs from node b\n",
      "a 1 b\n",
      "c 1 b\n",
      "e 1 b\n",
      "d 2 a\n",
      "bfs from node c\n",
      "a 1 c\n",
      "b 1 c\n",
      "d 1 c\n",
      "e 2 a\n"
     ]
    }
   ],
   "source": [
    "g = Graph(\n",
    "    'abcde',\n",
    "    [\n",
    "        [1,2,3,4],\n",
    "        [0,2,4],\n",
    "        [0,1,3],\n",
    "        [0,2,4],\n",
    "        [0,1,3]\n",
    "    ]\n",
    "\n",
    ")\n",
    "bfs(g, g.nodes[0])\n",
    "bfs(g, g.nodes[1])\n",
    "bfs(g, g.nodes[2])"
   ]
  },
  {
   "cell_type": "code",
   "execution_count": 66,
   "id": "1c9faa23",
   "metadata": {},
   "outputs": [],
   "source": [
    "def dfs(graph, start_node):\n",
    "    for node in graph.nodes:\n",
    "        node.color = 'WHITE'\n",
    "        node.p = GraphNode(label = None, adjacent_nodes=None)\n",
    "    start_node.color = 'GRAY'\n",
    "\n",
    "    print(f'bfs from node {start_node.label}')\n",
    "    dfs_visit(graph, start_node)\n",
    "    \n",
    "def dfs_visit(graph, node):\n",
    "    global time\n",
    "    time += 1\n",
    "    node.d = time\n",
    "    node.color = 'GRAY'\n",
    "    \n",
    "    print(node.label, node.d, node.p.label)\n",
    "\n",
    "    for i in node.neighbors:\n",
    "        n = graph.nodes[i]\n",
    "\n",
    "        if n.color == 'WHITE':\n",
    "            n.p = node\n",
    "            dfs_visit(graph, n)\n",
    "            \n",
    "    node.color = 'BLACK'"
   ]
  },
  {
   "cell_type": "code",
   "execution_count": 67,
   "id": "a4341ef1",
   "metadata": {},
   "outputs": [
    {
     "name": "stdout",
     "output_type": "stream",
     "text": [
      "bfs from node a\n",
      "a 16 None\n",
      "b 17 a\n",
      "c 18 b\n",
      "d 19 c\n",
      "e 20 d\n",
      "bfs from node b\n",
      "b 21 None\n",
      "a 22 b\n",
      "c 23 a\n",
      "d 24 c\n",
      "e 25 d\n",
      "bfs from node c\n",
      "c 26 None\n",
      "a 27 c\n",
      "b 28 a\n",
      "e 29 b\n",
      "d 30 e\n"
     ]
    }
   ],
   "source": [
    "dfs(g, g.nodes[0])\n",
    "dfs(g, g.nodes[1])\n",
    "dfs(g, g.nodes[2])"
   ]
  },
  {
   "cell_type": "code",
   "execution_count": null,
   "id": "b560dfec",
   "metadata": {},
   "outputs": [],
   "source": []
  }
 ],
 "metadata": {
  "kernelspec": {
   "display_name": "Python 3 (ipykernel)",
   "language": "python",
   "name": "python3"
  },
  "language_info": {
   "codemirror_mode": {
    "name": "ipython",
    "version": 3
   },
   "file_extension": ".py",
   "mimetype": "text/x-python",
   "name": "python",
   "nbconvert_exporter": "python",
   "pygments_lexer": "ipython3",
   "version": "3.9.12"
  }
 },
 "nbformat": 4,
 "nbformat_minor": 5
}
