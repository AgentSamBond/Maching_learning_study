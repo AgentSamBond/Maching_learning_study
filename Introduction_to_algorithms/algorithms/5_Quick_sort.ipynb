{
 "cells": [
  {
   "cell_type": "code",
   "execution_count": 19,
   "id": "147b80f1",
   "metadata": {},
   "outputs": [],
   "source": [
    "def quick_sort(A, start, end):\n",
    "    if start < end:\n",
    "        q, t = partition(A, start, end)\n",
    "        quick_sort(A, start, q-1)\n",
    "        quick_sort(A, t+1, end)\n",
    "\n",
    "def partition(A, start, end):\n",
    "    pivot = A[end]\n",
    "    i = start - 1\n",
    "    \n",
    "    for j in range(start, end):\n",
    "        if A[j] < pivot:\n",
    "            i += 1\n",
    "            A[i], A[j] = A[j], A[i]\n",
    "    A[i+1], A[end] = A[end], A[i+1]\n",
    "    \n",
    "    # elements equal to A[pivot]\n",
    "    t = i+1\n",
    "    for j in range(i+2, end+1):\n",
    "        if A[j] == pivot:\n",
    "            t += 1\n",
    "            A[j], A[t] = A[t], A[j]\n",
    "    return i + 1, t"
   ]
  },
  {
   "cell_type": "code",
   "execution_count": 20,
   "id": "679d446b",
   "metadata": {},
   "outputs": [
    {
     "data": {
      "text/plain": [
       "[1, 2, 3, 5]"
      ]
     },
     "execution_count": 20,
     "metadata": {},
     "output_type": "execute_result"
    }
   ],
   "source": [
    "arr = [5,2,3,1]\n",
    "quick_sort(arr, 0, len(arr)-1)\n",
    "arr"
   ]
  },
  {
   "cell_type": "code",
   "execution_count": 21,
   "id": "d7e4e555",
   "metadata": {},
   "outputs": [],
   "source": [
    "import random\n",
    "\n",
    "def quick_sort_randomized(A, start, end):\n",
    "    if start < end:\n",
    "        q, t = partition_randomized(A, start, end)\n",
    "        quick_sort_randomized(A, start, q-1)\n",
    "        quick_sort_randomized(A, t+1, end)\n",
    "\n",
    "def partition_randomized(A, start, end):\n",
    "    pivot_n = random.randint(start, end)\n",
    "    A[end], A[pivot_n] = A[pivot_n], A[end]\n",
    "    \n",
    "    return partition(A, start, end)\n"
   ]
  },
  {
   "cell_type": "code",
   "execution_count": 22,
   "id": "2480e0bc",
   "metadata": {},
   "outputs": [
    {
     "data": {
      "text/plain": [
       "[1, 2, 3, 5]"
      ]
     },
     "execution_count": 22,
     "metadata": {},
     "output_type": "execute_result"
    }
   ],
   "source": [
    "arr = [5,2,3,1]\n",
    "quick_sort_randomized(arr, 0, len(arr)-1)\n",
    "arr"
   ]
  },
  {
   "cell_type": "code",
   "execution_count": null,
   "id": "dc3415c1",
   "metadata": {},
   "outputs": [],
   "source": []
  }
 ],
 "metadata": {
  "kernelspec": {
   "display_name": "Python 3 (ipykernel)",
   "language": "python",
   "name": "python3"
  },
  "language_info": {
   "codemirror_mode": {
    "name": "ipython",
    "version": 3
   },
   "file_extension": ".py",
   "mimetype": "text/x-python",
   "name": "python",
   "nbconvert_exporter": "python",
   "pygments_lexer": "ipython3",
   "version": "3.9.12"
  }
 },
 "nbformat": 4,
 "nbformat_minor": 5
}
