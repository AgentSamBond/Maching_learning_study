{
 "cells": [
  {
   "cell_type": "code",
   "execution_count": 28,
   "id": "769eab4a",
   "metadata": {},
   "outputs": [],
   "source": [
    "# stack, implementation with arrays\n",
    "\n",
    "class Stack_array:\n",
    "    def __init__(self, n_elem):\n",
    "        self.A = [0] * n_elem\n",
    "        self.top = 0\n",
    "        \n",
    "    def push(self, x):\n",
    "        if self.full():\n",
    "            raise ValueError('Stack full')\n",
    "        else:\n",
    "            self.A[self.top] = x\n",
    "            self.top += 1\n",
    "        \n",
    "    def pop(self):\n",
    "        if self.empty():\n",
    "            raise ValueError('Stack empty')\n",
    "        else:\n",
    "            self.top -= 1\n",
    "            return self.A[self.top]\n",
    "    \n",
    "    def empty(self):\n",
    "        return not self.top\n",
    "    \n",
    "    def full(self):\n",
    "        return self.top >= len(self.A)"
   ]
  },
  {
   "cell_type": "code",
   "execution_count": 30,
   "id": "f2185451",
   "metadata": {},
   "outputs": [
    {
     "name": "stdout",
     "output_type": "stream",
     "text": [
      "5\n",
      "3\n",
      "1\n",
      "2\n"
     ]
    }
   ],
   "source": [
    "st_a = Stack_array(4)\n",
    "for i in [2,1,3,5]:\n",
    "    st_a.push(i)\n",
    "    \n",
    "for i in [2,1,3,5]:\n",
    "    print(st_a.pop())"
   ]
  },
  {
   "cell_type": "code",
   "execution_count": 44,
   "id": "8e3ccae8",
   "metadata": {},
   "outputs": [],
   "source": [
    "# queue, implementation with arrays\n",
    "\n",
    "\n",
    "class Queue_array:\n",
    "    def __init__(self, n_elem):\n",
    "        self.A = [0] * (n_elem + 1)\n",
    "        self.head = 0\n",
    "        self.tail = 0\n",
    "        self.length = n_elem + 1\n",
    "    \n",
    "    def enqueue(self, x):\n",
    "        if self.full():\n",
    "            raise ValueError('Queue full')\n",
    "        else:\n",
    "            self.A[self.head] = x\n",
    "            self.head = (self.head - 1) % self.length\n",
    "    \n",
    "    def dequeue(self):\n",
    "        if self.empty():\n",
    "            raise ValueError('Queue empty')\n",
    "        else:\n",
    "            elt = self.A[self.tail]\n",
    "            self.tail = (self.tail - 1) % self.length\n",
    "            return elt\n",
    "    \n",
    "    def empty(self): \n",
    "        return self.head == self.tail\n",
    "    \n",
    "    def full(self):\n",
    "        return self.head - self.tail == 1 or self.head - self.tail == -self.length + 1"
   ]
  },
  {
   "cell_type": "code",
   "execution_count": 48,
   "id": "40fbe44a",
   "metadata": {},
   "outputs": [
    {
     "name": "stdout",
     "output_type": "stream",
     "text": [
      "enqueue\n",
      "[2, 0, 0, 0, 0]\n",
      "4\n",
      "0\n",
      "[2, 0, 0, 0, 1]\n",
      "3\n",
      "0\n",
      "[2, 0, 0, 3, 1]\n",
      "2\n",
      "0\n",
      "[2, 0, 5, 3, 1]\n",
      "1\n",
      "0\n",
      "dequeue\n",
      "2\n",
      "[2, 0, 5, 3, 1]\n",
      "1\n",
      "4\n",
      "1\n",
      "[2, 0, 5, 3, 1]\n",
      "1\n",
      "3\n",
      "3\n",
      "[2, 0, 5, 3, 1]\n",
      "1\n",
      "2\n",
      "5\n",
      "10\n"
     ]
    }
   ],
   "source": [
    "q_a = Queue_array(4)\n",
    "print('enqueue')\n",
    "for i in [2,1,3,5]:\n",
    "    q_a.enqueue(i)\n",
    "    print(q_a.A)\n",
    "    print(q_a.head)\n",
    "    print(q_a.tail)\n",
    "    \n",
    "print('dequeue')\n",
    "for i in [2,1,3]:\n",
    "    print(q_a.dequeue())\n",
    "    print(q_a.A)\n",
    "    print(q_a.head)\n",
    "    print(q_a.tail)\n",
    "    \n",
    "q_a.enqueue(10)\n",
    "print(q_a.dequeue())\n",
    "print(q_a.dequeue())"
   ]
  },
  {
   "cell_type": "code",
   "execution_count": null,
   "id": "7c265775",
   "metadata": {},
   "outputs": [],
   "source": []
  },
  {
   "cell_type": "code",
   "execution_count": null,
   "id": "ff08c459",
   "metadata": {},
   "outputs": [],
   "source": []
  }
 ],
 "metadata": {
  "kernelspec": {
   "display_name": "Python 3 (ipykernel)",
   "language": "python",
   "name": "python3"
  },
  "language_info": {
   "codemirror_mode": {
    "name": "ipython",
    "version": 3
   },
   "file_extension": ".py",
   "mimetype": "text/x-python",
   "name": "python",
   "nbconvert_exporter": "python",
   "pygments_lexer": "ipython3",
   "version": "3.9.12"
  }
 },
 "nbformat": 4,
 "nbformat_minor": 5
}
